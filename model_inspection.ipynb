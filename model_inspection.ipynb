{
 "cells": [
  {
   "metadata": {
    "ExecuteTime": {
     "end_time": "2024-06-29T00:30:54.191744Z",
     "start_time": "2024-06-29T00:30:54.188919Z"
    }
   },
   "cell_type": "code",
   "source": [
    "# name = \"/Add_output_0\"\n",
    "name = \"/wt_embedding/MatMul_output_0\""
   ],
   "id": "631e43d882ce9d57",
   "outputs": [],
   "execution_count": 44
  },
  {
   "metadata": {
    "ExecuteTime": {
     "end_time": "2024-06-29T00:30:54.792125Z",
     "start_time": "2024-06-29T00:30:54.764440Z"
    }
   },
   "cell_type": "code",
   "source": [
    "import onnx\n",
    "\n",
    "model = onnx.load(\"models/tinyphysics.onnx\")\n",
    "\n",
    "value_info_protos = []\n",
    "shape_info = onnx.shape_inference.infer_shapes(model)\n",
    "for node in shape_info.graph.value_info:\n",
    "    if node.name == name:\n",
    "        value_info_protos.append(node)\n",
    "        break\n",
    "model.graph.output.extend(value_info_protos)\n",
    "onnx.checker.check_model(model, full_check=True)\n",
    "onnx.save(model, \"models/tmp_tinyphysics_output.onnx\")"
   ],
   "id": "4fe188ac90072fe2",
   "outputs": [],
   "execution_count": 45
  },
  {
   "metadata": {
    "ExecuteTime": {
     "end_time": "2024-06-29T00:30:55.590773Z",
     "start_time": "2024-06-29T00:30:55.562351Z"
    }
   },
   "cell_type": "code",
   "source": "onnx.utils.extract_model(\"models/tmp_tinyphysics_output.onnx\", \"models/tmp_tinyphysics_extracted.onnx\", [\"states\", \"tokens\"], [name])",
   "id": "52fd97f25c9fce65",
   "outputs": [],
   "execution_count": 46
  },
  {
   "metadata": {},
   "cell_type": "code",
   "outputs": [],
   "execution_count": null,
   "source": "",
   "id": "fc14c6e322ab7a19"
  }
 ],
 "metadata": {
  "kernelspec": {
   "display_name": "Python 3",
   "language": "python",
   "name": "python3"
  },
  "language_info": {
   "codemirror_mode": {
    "name": "ipython",
    "version": 2
   },
   "file_extension": ".py",
   "mimetype": "text/x-python",
   "name": "python",
   "nbconvert_exporter": "python",
   "pygments_lexer": "ipython2",
   "version": "2.7.6"
  }
 },
 "nbformat": 4,
 "nbformat_minor": 5
}
