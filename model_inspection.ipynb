{
 "cells": [
  {
   "metadata": {
    "ExecuteTime": {
     "end_time": "2024-07-18T16:25:40.830137Z",
     "start_time": "2024-07-18T16:25:40.826321Z"
    }
   },
   "cell_type": "code",
   "source": [
    "names = [\n",
    "    \"/h.0/attn/Transpose\",\n",
    "    # \"/h.0/attn/Mul\",\n",
    "]\n",
    "names = [n + \"_output_0\" for n in names]\n",
    "# names += [\"/h.0/attn/Split_output_1\"]"
   ],
   "id": "631e43d882ce9d57",
   "outputs": [],
   "execution_count": 19
  },
  {
   "metadata": {
    "ExecuteTime": {
     "end_time": "2024-07-18T16:25:40.869389Z",
     "start_time": "2024-07-18T16:25:40.832062Z"
    }
   },
   "cell_type": "code",
   "source": [
    "import onnx\n",
    "\n",
    "model = onnx.load(\"models/tinyphysics.onnx\")\n",
    "\n",
    "value_info_protos = []\n",
    "shape_info = onnx.shape_inference.infer_shapes(model)\n",
    "for node in shape_info.graph.value_info:\n",
    "    if node.name in names:\n",
    "        value_info_protos.append(node)\n",
    "model.graph.output.extend(value_info_protos)\n",
    "onnx.checker.check_model(model, full_check=True)\n",
    "onnx.save(model, \"models/tmp_tinyphysics_output.onnx\")"
   ],
   "id": "4fe188ac90072fe2",
   "outputs": [],
   "execution_count": 20
  },
  {
   "metadata": {
    "ExecuteTime": {
     "end_time": "2024-07-18T16:25:40.918414Z",
     "start_time": "2024-07-18T16:25:40.870269Z"
    }
   },
   "cell_type": "code",
   "source": "onnx.utils.extract_model(\"models/tmp_tinyphysics_output.onnx\", \"models/tmp_tinyphysics_extracted.onnx\", [\"states\", \"tokens\"], names)",
   "id": "52fd97f25c9fce65",
   "outputs": [],
   "execution_count": 21
  }
 ],
 "metadata": {
  "kernelspec": {
   "display_name": "Python 3",
   "language": "python",
   "name": "python3"
  },
  "language_info": {
   "codemirror_mode": {
    "name": "ipython",
    "version": 2
   },
   "file_extension": ".py",
   "mimetype": "text/x-python",
   "name": "python",
   "nbconvert_exporter": "python",
   "pygments_lexer": "ipython2",
   "version": "2.7.6"
  }
 },
 "nbformat": 4,
 "nbformat_minor": 5
}
